{
  "nbformat": 4,
  "nbformat_minor": 0,
  "metadata": {
    "colab": {
      "name": "PyTerrier_2",
      "provenance": []
    },
    "kernelspec": {
      "name": "python3",
      "display_name": "Python 3"
    },
    "widgets": {
      "application/vnd.jupyter.widget-state+json": {
        "e2923d60b329468eab1b5240f148b61e": {
          "model_module": "@jupyter-widgets/controls",
          "model_name": "HBoxModel",
          "model_module_version": "1.5.0",
          "state": {
            "_view_name": "HBoxView",
            "_dom_classes": [],
            "_model_name": "HBoxModel",
            "_view_module": "@jupyter-widgets/controls",
            "_model_module_version": "1.5.0",
            "_view_count": null,
            "_view_module_version": "1.5.0",
            "box_style": "",
            "layout": "IPY_MODEL_33895685b4f04e2ba08db31f03d04d12",
            "_model_module": "@jupyter-widgets/controls",
            "children": [
              "IPY_MODEL_7d7953aa38b04e43a9f0b1fbc3a9c314",
              "IPY_MODEL_95de65010745436195b8204b0124a264",
              "IPY_MODEL_13490858993545e787733f31320cd721"
            ]
          }
        },
        "33895685b4f04e2ba08db31f03d04d12": {
          "model_module": "@jupyter-widgets/base",
          "model_name": "LayoutModel",
          "model_module_version": "1.2.0",
          "state": {
            "_view_name": "LayoutView",
            "grid_template_rows": null,
            "right": null,
            "justify_content": null,
            "_view_module": "@jupyter-widgets/base",
            "overflow": null,
            "_model_module_version": "1.2.0",
            "_view_count": null,
            "flex_flow": null,
            "width": null,
            "min_width": null,
            "border": null,
            "align_items": null,
            "bottom": null,
            "_model_module": "@jupyter-widgets/base",
            "top": null,
            "grid_column": null,
            "overflow_y": null,
            "overflow_x": null,
            "grid_auto_flow": null,
            "grid_area": null,
            "grid_template_columns": null,
            "flex": null,
            "_model_name": "LayoutModel",
            "justify_items": null,
            "grid_row": null,
            "max_height": null,
            "align_content": null,
            "visibility": null,
            "align_self": null,
            "height": null,
            "min_height": null,
            "padding": null,
            "grid_auto_rows": null,
            "grid_gap": null,
            "max_width": null,
            "order": null,
            "_view_module_version": "1.2.0",
            "grid_template_areas": null,
            "object_position": null,
            "object_fit": null,
            "grid_auto_columns": null,
            "margin": null,
            "display": null,
            "left": null
          }
        },
        "7d7953aa38b04e43a9f0b1fbc3a9c314": {
          "model_module": "@jupyter-widgets/controls",
          "model_name": "HTMLModel",
          "model_module_version": "1.5.0",
          "state": {
            "_view_name": "HTMLView",
            "style": "IPY_MODEL_12d62f7e64ab4b859b397c34116952b9",
            "_dom_classes": [],
            "description": "",
            "_model_name": "HTMLModel",
            "placeholder": "​",
            "_view_module": "@jupyter-widgets/controls",
            "_model_module_version": "1.5.0",
            "value": "data.meta-0.fsomapfile: 100%",
            "_view_count": null,
            "_view_module_version": "1.5.0",
            "description_tooltip": null,
            "_model_module": "@jupyter-widgets/controls",
            "layout": "IPY_MODEL_a006da4fc9fc474cb85e3a25b10852d0"
          }
        },
        "95de65010745436195b8204b0124a264": {
          "model_module": "@jupyter-widgets/controls",
          "model_name": "FloatProgressModel",
          "model_module_version": "1.5.0",
          "state": {
            "_view_name": "ProgressView",
            "style": "IPY_MODEL_c05b5532a9dd4397827d2df043a861a2",
            "_dom_classes": [],
            "description": "",
            "_model_name": "FloatProgressModel",
            "bar_style": "success",
            "max": 52505375,
            "_view_module": "@jupyter-widgets/controls",
            "_model_module_version": "1.5.0",
            "value": 52505375,
            "_view_count": null,
            "_view_module_version": "1.5.0",
            "orientation": "horizontal",
            "min": 0,
            "description_tooltip": null,
            "_model_module": "@jupyter-widgets/controls",
            "layout": "IPY_MODEL_588730c2307a411493de8e63f7b05685"
          }
        },
        "13490858993545e787733f31320cd721": {
          "model_module": "@jupyter-widgets/controls",
          "model_name": "HTMLModel",
          "model_module_version": "1.5.0",
          "state": {
            "_view_name": "HTMLView",
            "style": "IPY_MODEL_e42de1f033414b1bb585af9dcffd59f2",
            "_dom_classes": [],
            "description": "",
            "_model_name": "HTMLModel",
            "placeholder": "​",
            "_view_module": "@jupyter-widgets/controls",
            "_model_module_version": "1.5.0",
            "value": " 50.1M/50.1M [00:03&lt;00:00, 20.4MiB/s]",
            "_view_count": null,
            "_view_module_version": "1.5.0",
            "description_tooltip": null,
            "_model_module": "@jupyter-widgets/controls",
            "layout": "IPY_MODEL_1fa09590a2e24ed3b0cadde08ae05feb"
          }
        },
        "12d62f7e64ab4b859b397c34116952b9": {
          "model_module": "@jupyter-widgets/controls",
          "model_name": "DescriptionStyleModel",
          "model_module_version": "1.5.0",
          "state": {
            "_view_name": "StyleView",
            "_model_name": "DescriptionStyleModel",
            "description_width": "",
            "_view_module": "@jupyter-widgets/base",
            "_model_module_version": "1.5.0",
            "_view_count": null,
            "_view_module_version": "1.2.0",
            "_model_module": "@jupyter-widgets/controls"
          }
        },
        "a006da4fc9fc474cb85e3a25b10852d0": {
          "model_module": "@jupyter-widgets/base",
          "model_name": "LayoutModel",
          "model_module_version": "1.2.0",
          "state": {
            "_view_name": "LayoutView",
            "grid_template_rows": null,
            "right": null,
            "justify_content": null,
            "_view_module": "@jupyter-widgets/base",
            "overflow": null,
            "_model_module_version": "1.2.0",
            "_view_count": null,
            "flex_flow": null,
            "width": null,
            "min_width": null,
            "border": null,
            "align_items": null,
            "bottom": null,
            "_model_module": "@jupyter-widgets/base",
            "top": null,
            "grid_column": null,
            "overflow_y": null,
            "overflow_x": null,
            "grid_auto_flow": null,
            "grid_area": null,
            "grid_template_columns": null,
            "flex": null,
            "_model_name": "LayoutModel",
            "justify_items": null,
            "grid_row": null,
            "max_height": null,
            "align_content": null,
            "visibility": null,
            "align_self": null,
            "height": null,
            "min_height": null,
            "padding": null,
            "grid_auto_rows": null,
            "grid_gap": null,
            "max_width": null,
            "order": null,
            "_view_module_version": "1.2.0",
            "grid_template_areas": null,
            "object_position": null,
            "object_fit": null,
            "grid_auto_columns": null,
            "margin": null,
            "display": null,
            "left": null
          }
        },
        "c05b5532a9dd4397827d2df043a861a2": {
          "model_module": "@jupyter-widgets/controls",
          "model_name": "ProgressStyleModel",
          "model_module_version": "1.5.0",
          "state": {
            "_view_name": "StyleView",
            "_model_name": "ProgressStyleModel",
            "description_width": "",
            "_view_module": "@jupyter-widgets/base",
            "_model_module_version": "1.5.0",
            "_view_count": null,
            "_view_module_version": "1.2.0",
            "bar_color": null,
            "_model_module": "@jupyter-widgets/controls"
          }
        },
        "588730c2307a411493de8e63f7b05685": {
          "model_module": "@jupyter-widgets/base",
          "model_name": "LayoutModel",
          "model_module_version": "1.2.0",
          "state": {
            "_view_name": "LayoutView",
            "grid_template_rows": null,
            "right": null,
            "justify_content": null,
            "_view_module": "@jupyter-widgets/base",
            "overflow": null,
            "_model_module_version": "1.2.0",
            "_view_count": null,
            "flex_flow": null,
            "width": null,
            "min_width": null,
            "border": null,
            "align_items": null,
            "bottom": null,
            "_model_module": "@jupyter-widgets/base",
            "top": null,
            "grid_column": null,
            "overflow_y": null,
            "overflow_x": null,
            "grid_auto_flow": null,
            "grid_area": null,
            "grid_template_columns": null,
            "flex": null,
            "_model_name": "LayoutModel",
            "justify_items": null,
            "grid_row": null,
            "max_height": null,
            "align_content": null,
            "visibility": null,
            "align_self": null,
            "height": null,
            "min_height": null,
            "padding": null,
            "grid_auto_rows": null,
            "grid_gap": null,
            "max_width": null,
            "order": null,
            "_view_module_version": "1.2.0",
            "grid_template_areas": null,
            "object_position": null,
            "object_fit": null,
            "grid_auto_columns": null,
            "margin": null,
            "display": null,
            "left": null
          }
        },
        "e42de1f033414b1bb585af9dcffd59f2": {
          "model_module": "@jupyter-widgets/controls",
          "model_name": "DescriptionStyleModel",
          "model_module_version": "1.5.0",
          "state": {
            "_view_name": "StyleView",
            "_model_name": "DescriptionStyleModel",
            "description_width": "",
            "_view_module": "@jupyter-widgets/base",
            "_model_module_version": "1.5.0",
            "_view_count": null,
            "_view_module_version": "1.2.0",
            "_model_module": "@jupyter-widgets/controls"
          }
        },
        "1fa09590a2e24ed3b0cadde08ae05feb": {
          "model_module": "@jupyter-widgets/base",
          "model_name": "LayoutModel",
          "model_module_version": "1.2.0",
          "state": {
            "_view_name": "LayoutView",
            "grid_template_rows": null,
            "right": null,
            "justify_content": null,
            "_view_module": "@jupyter-widgets/base",
            "overflow": null,
            "_model_module_version": "1.2.0",
            "_view_count": null,
            "flex_flow": null,
            "width": null,
            "min_width": null,
            "border": null,
            "align_items": null,
            "bottom": null,
            "_model_module": "@jupyter-widgets/base",
            "top": null,
            "grid_column": null,
            "overflow_y": null,
            "overflow_x": null,
            "grid_auto_flow": null,
            "grid_area": null,
            "grid_template_columns": null,
            "flex": null,
            "_model_name": "LayoutModel",
            "justify_items": null,
            "grid_row": null,
            "max_height": null,
            "align_content": null,
            "visibility": null,
            "align_self": null,
            "height": null,
            "min_height": null,
            "padding": null,
            "grid_auto_rows": null,
            "grid_gap": null,
            "max_width": null,
            "order": null,
            "_view_module_version": "1.2.0",
            "grid_template_areas": null,
            "object_position": null,
            "object_fit": null,
            "grid_auto_columns": null,
            "margin": null,
            "display": null,
            "left": null
          }
        },
        "40f51fa7222f47178ecdcab5f1988fd4": {
          "model_module": "@jupyter-widgets/controls",
          "model_name": "HBoxModel",
          "model_module_version": "1.5.0",
          "state": {
            "_view_name": "HBoxView",
            "_dom_classes": [],
            "_model_name": "HBoxModel",
            "_view_module": "@jupyter-widgets/controls",
            "_model_module_version": "1.5.0",
            "_view_count": null,
            "_view_module_version": "1.5.0",
            "box_style": "",
            "layout": "IPY_MODEL_21f5507fbbe34288920d1e8130c1ffae",
            "_model_module": "@jupyter-widgets/controls",
            "children": [
              "IPY_MODEL_127fb76244a0467fae5fceb0c619f321",
              "IPY_MODEL_a2a63e4948244fdab250cf194b8885e6",
              "IPY_MODEL_533f311bd20248089e2dc5e5227be0f1"
            ]
          }
        },
        "21f5507fbbe34288920d1e8130c1ffae": {
          "model_module": "@jupyter-widgets/base",
          "model_name": "LayoutModel",
          "model_module_version": "1.2.0",
          "state": {
            "_view_name": "LayoutView",
            "grid_template_rows": null,
            "right": null,
            "justify_content": null,
            "_view_module": "@jupyter-widgets/base",
            "overflow": null,
            "_model_module_version": "1.2.0",
            "_view_count": null,
            "flex_flow": null,
            "width": null,
            "min_width": null,
            "border": null,
            "align_items": null,
            "bottom": null,
            "_model_module": "@jupyter-widgets/base",
            "top": null,
            "grid_column": null,
            "overflow_y": null,
            "overflow_x": null,
            "grid_auto_flow": null,
            "grid_area": null,
            "grid_template_columns": null,
            "flex": null,
            "_model_name": "LayoutModel",
            "justify_items": null,
            "grid_row": null,
            "max_height": null,
            "align_content": null,
            "visibility": null,
            "align_self": null,
            "height": null,
            "min_height": null,
            "padding": null,
            "grid_auto_rows": null,
            "grid_gap": null,
            "max_width": null,
            "order": null,
            "_view_module_version": "1.2.0",
            "grid_template_areas": null,
            "object_position": null,
            "object_fit": null,
            "grid_auto_columns": null,
            "margin": null,
            "display": null,
            "left": null
          }
        },
        "127fb76244a0467fae5fceb0c619f321": {
          "model_module": "@jupyter-widgets/controls",
          "model_name": "HTMLModel",
          "model_module_version": "1.5.0",
          "state": {
            "_view_name": "HTMLView",
            "style": "IPY_MODEL_350390d07bde451088b40ac9ee1c1965",
            "_dom_classes": [],
            "description": "",
            "_model_name": "HTMLModel",
            "placeholder": "​",
            "_view_module": "@jupyter-widgets/controls",
            "_model_module_version": "1.5.0",
            "value": "Web2004.query.stream.trecformat.txt: 100%",
            "_view_count": null,
            "_view_module_version": "1.5.0",
            "description_tooltip": null,
            "_model_module": "@jupyter-widgets/controls",
            "layout": "IPY_MODEL_2978d40e4b6c44f7ad117e732a642b3a"
          }
        },
        "a2a63e4948244fdab250cf194b8885e6": {
          "model_module": "@jupyter-widgets/controls",
          "model_name": "FloatProgressModel",
          "model_module_version": "1.5.0",
          "state": {
            "_view_name": "ProgressView",
            "style": "IPY_MODEL_91a9d8653b4a4728961cf7fcce1f238f",
            "_dom_classes": [],
            "description": "",
            "_model_name": "FloatProgressModel",
            "bar_style": "success",
            "max": 15657,
            "_view_module": "@jupyter-widgets/controls",
            "_model_module_version": "1.5.0",
            "value": 15657,
            "_view_count": null,
            "_view_module_version": "1.5.0",
            "orientation": "horizontal",
            "min": 0,
            "description_tooltip": null,
            "_model_module": "@jupyter-widgets/controls",
            "layout": "IPY_MODEL_446daa9422364e959540bc85a4d23fe2"
          }
        },
        "533f311bd20248089e2dc5e5227be0f1": {
          "model_module": "@jupyter-widgets/controls",
          "model_name": "HTMLModel",
          "model_module_version": "1.5.0",
          "state": {
            "_view_name": "HTMLView",
            "style": "IPY_MODEL_10c7c1da934e4f959dfaef57bd077d58",
            "_dom_classes": [],
            "description": "",
            "_model_name": "HTMLModel",
            "placeholder": "​",
            "_view_module": "@jupyter-widgets/controls",
            "_model_module_version": "1.5.0",
            "value": " 15.3k/15.3k [00:00&lt;00:00, 316kiB/s]",
            "_view_count": null,
            "_view_module_version": "1.5.0",
            "description_tooltip": null,
            "_model_module": "@jupyter-widgets/controls",
            "layout": "IPY_MODEL_291ec393f410424da5f9da4f182751d1"
          }
        },
        "350390d07bde451088b40ac9ee1c1965": {
          "model_module": "@jupyter-widgets/controls",
          "model_name": "DescriptionStyleModel",
          "model_module_version": "1.5.0",
          "state": {
            "_view_name": "StyleView",
            "_model_name": "DescriptionStyleModel",
            "description_width": "",
            "_view_module": "@jupyter-widgets/base",
            "_model_module_version": "1.5.0",
            "_view_count": null,
            "_view_module_version": "1.2.0",
            "_model_module": "@jupyter-widgets/controls"
          }
        },
        "2978d40e4b6c44f7ad117e732a642b3a": {
          "model_module": "@jupyter-widgets/base",
          "model_name": "LayoutModel",
          "model_module_version": "1.2.0",
          "state": {
            "_view_name": "LayoutView",
            "grid_template_rows": null,
            "right": null,
            "justify_content": null,
            "_view_module": "@jupyter-widgets/base",
            "overflow": null,
            "_model_module_version": "1.2.0",
            "_view_count": null,
            "flex_flow": null,
            "width": null,
            "min_width": null,
            "border": null,
            "align_items": null,
            "bottom": null,
            "_model_module": "@jupyter-widgets/base",
            "top": null,
            "grid_column": null,
            "overflow_y": null,
            "overflow_x": null,
            "grid_auto_flow": null,
            "grid_area": null,
            "grid_template_columns": null,
            "flex": null,
            "_model_name": "LayoutModel",
            "justify_items": null,
            "grid_row": null,
            "max_height": null,
            "align_content": null,
            "visibility": null,
            "align_self": null,
            "height": null,
            "min_height": null,
            "padding": null,
            "grid_auto_rows": null,
            "grid_gap": null,
            "max_width": null,
            "order": null,
            "_view_module_version": "1.2.0",
            "grid_template_areas": null,
            "object_position": null,
            "object_fit": null,
            "grid_auto_columns": null,
            "margin": null,
            "display": null,
            "left": null
          }
        },
        "91a9d8653b4a4728961cf7fcce1f238f": {
          "model_module": "@jupyter-widgets/controls",
          "model_name": "ProgressStyleModel",
          "model_module_version": "1.5.0",
          "state": {
            "_view_name": "StyleView",
            "_model_name": "ProgressStyleModel",
            "description_width": "",
            "_view_module": "@jupyter-widgets/base",
            "_model_module_version": "1.5.0",
            "_view_count": null,
            "_view_module_version": "1.2.0",
            "bar_color": null,
            "_model_module": "@jupyter-widgets/controls"
          }
        },
        "446daa9422364e959540bc85a4d23fe2": {
          "model_module": "@jupyter-widgets/base",
          "model_name": "LayoutModel",
          "model_module_version": "1.2.0",
          "state": {
            "_view_name": "LayoutView",
            "grid_template_rows": null,
            "right": null,
            "justify_content": null,
            "_view_module": "@jupyter-widgets/base",
            "overflow": null,
            "_model_module_version": "1.2.0",
            "_view_count": null,
            "flex_flow": null,
            "width": null,
            "min_width": null,
            "border": null,
            "align_items": null,
            "bottom": null,
            "_model_module": "@jupyter-widgets/base",
            "top": null,
            "grid_column": null,
            "overflow_y": null,
            "overflow_x": null,
            "grid_auto_flow": null,
            "grid_area": null,
            "grid_template_columns": null,
            "flex": null,
            "_model_name": "LayoutModel",
            "justify_items": null,
            "grid_row": null,
            "max_height": null,
            "align_content": null,
            "visibility": null,
            "align_self": null,
            "height": null,
            "min_height": null,
            "padding": null,
            "grid_auto_rows": null,
            "grid_gap": null,
            "max_width": null,
            "order": null,
            "_view_module_version": "1.2.0",
            "grid_template_areas": null,
            "object_position": null,
            "object_fit": null,
            "grid_auto_columns": null,
            "margin": null,
            "display": null,
            "left": null
          }
        },
        "10c7c1da934e4f959dfaef57bd077d58": {
          "model_module": "@jupyter-widgets/controls",
          "model_name": "DescriptionStyleModel",
          "model_module_version": "1.5.0",
          "state": {
            "_view_name": "StyleView",
            "_model_name": "DescriptionStyleModel",
            "description_width": "",
            "_view_module": "@jupyter-widgets/base",
            "_model_module_version": "1.5.0",
            "_view_count": null,
            "_view_module_version": "1.2.0",
            "_model_module": "@jupyter-widgets/controls"
          }
        },
        "291ec393f410424da5f9da4f182751d1": {
          "model_module": "@jupyter-widgets/base",
          "model_name": "LayoutModel",
          "model_module_version": "1.2.0",
          "state": {
            "_view_name": "LayoutView",
            "grid_template_rows": null,
            "right": null,
            "justify_content": null,
            "_view_module": "@jupyter-widgets/base",
            "overflow": null,
            "_model_module_version": "1.2.0",
            "_view_count": null,
            "flex_flow": null,
            "width": null,
            "min_width": null,
            "border": null,
            "align_items": null,
            "bottom": null,
            "_model_module": "@jupyter-widgets/base",
            "top": null,
            "grid_column": null,
            "overflow_y": null,
            "overflow_x": null,
            "grid_auto_flow": null,
            "grid_area": null,
            "grid_template_columns": null,
            "flex": null,
            "_model_name": "LayoutModel",
            "justify_items": null,
            "grid_row": null,
            "max_height": null,
            "align_content": null,
            "visibility": null,
            "align_self": null,
            "height": null,
            "min_height": null,
            "padding": null,
            "grid_auto_rows": null,
            "grid_gap": null,
            "max_width": null,
            "order": null,
            "_view_module_version": "1.2.0",
            "grid_template_areas": null,
            "object_position": null,
            "object_fit": null,
            "grid_auto_columns": null,
            "margin": null,
            "display": null,
            "left": null
          }
        },
        "c6966f94d44f47538fcfdfdbc08b5902": {
          "model_module": "@jupyter-widgets/controls",
          "model_name": "HBoxModel",
          "model_module_version": "1.5.0",
          "state": {
            "_view_name": "HBoxView",
            "_dom_classes": [],
            "_model_name": "HBoxModel",
            "_view_module": "@jupyter-widgets/controls",
            "_model_module_version": "1.5.0",
            "_view_count": null,
            "_view_module_version": "1.5.0",
            "box_style": "",
            "layout": "IPY_MODEL_31cfe830635240519677aac03187527e",
            "_model_module": "@jupyter-widgets/controls",
            "children": [
              "IPY_MODEL_b641087c826b47d5813c78f3e30f6aec",
              "IPY_MODEL_7357b79f82124f95b75daeef91d139a4",
              "IPY_MODEL_a473cf84f8da4557ac549985792eec18"
            ]
          }
        },
        "31cfe830635240519677aac03187527e": {
          "model_module": "@jupyter-widgets/base",
          "model_name": "LayoutModel",
          "model_module_version": "1.2.0",
          "state": {
            "_view_name": "LayoutView",
            "grid_template_rows": null,
            "right": null,
            "justify_content": null,
            "_view_module": "@jupyter-widgets/base",
            "overflow": null,
            "_model_module_version": "1.2.0",
            "_view_count": null,
            "flex_flow": null,
            "width": null,
            "min_width": null,
            "border": null,
            "align_items": null,
            "bottom": null,
            "_model_module": "@jupyter-widgets/base",
            "top": null,
            "grid_column": null,
            "overflow_y": null,
            "overflow_x": null,
            "grid_auto_flow": null,
            "grid_area": null,
            "grid_template_columns": null,
            "flex": null,
            "_model_name": "LayoutModel",
            "justify_items": null,
            "grid_row": null,
            "max_height": null,
            "align_content": null,
            "visibility": null,
            "align_self": null,
            "height": null,
            "min_height": null,
            "padding": null,
            "grid_auto_rows": null,
            "grid_gap": null,
            "max_width": null,
            "order": null,
            "_view_module_version": "1.2.0",
            "grid_template_areas": null,
            "object_position": null,
            "object_fit": null,
            "grid_auto_columns": null,
            "margin": null,
            "display": null,
            "left": null
          }
        },
        "b641087c826b47d5813c78f3e30f6aec": {
          "model_module": "@jupyter-widgets/controls",
          "model_name": "HTMLModel",
          "model_module_version": "1.5.0",
          "state": {
            "_view_name": "HTMLView",
            "style": "IPY_MODEL_7e4a7f6abfb24c249a45ba79246570d1",
            "_dom_classes": [],
            "description": "",
            "_model_name": "HTMLModel",
            "placeholder": "​",
            "_view_module": "@jupyter-widgets/controls",
            "_model_module_version": "1.5.0",
            "value": "04.qrels.web.mixed.txt: 100%",
            "_view_count": null,
            "_view_module_version": "1.5.0",
            "description_tooltip": null,
            "_model_module": "@jupyter-widgets/controls",
            "layout": "IPY_MODEL_d16f171261194617b3ecc0d45c6aad60"
          }
        },
        "7357b79f82124f95b75daeef91d139a4": {
          "model_module": "@jupyter-widgets/controls",
          "model_name": "FloatProgressModel",
          "model_module_version": "1.5.0",
          "state": {
            "_view_name": "ProgressView",
            "style": "IPY_MODEL_8f691720674a4b9cb91dbe029c313fb9",
            "_dom_classes": [],
            "description": "",
            "_model_name": "FloatProgressModel",
            "bar_style": "success",
            "max": 1996931,
            "_view_module": "@jupyter-widgets/controls",
            "_model_module_version": "1.5.0",
            "value": 1996931,
            "_view_count": null,
            "_view_module_version": "1.5.0",
            "orientation": "horizontal",
            "min": 0,
            "description_tooltip": null,
            "_model_module": "@jupyter-widgets/controls",
            "layout": "IPY_MODEL_e9e902ff6cdf410ba8a1011550743185"
          }
        },
        "a473cf84f8da4557ac549985792eec18": {
          "model_module": "@jupyter-widgets/controls",
          "model_name": "HTMLModel",
          "model_module_version": "1.5.0",
          "state": {
            "_view_name": "HTMLView",
            "style": "IPY_MODEL_ca6d912c0a0c434e82cbc26070eb392d",
            "_dom_classes": [],
            "description": "",
            "_model_name": "HTMLModel",
            "placeholder": "​",
            "_view_module": "@jupyter-widgets/controls",
            "_model_module_version": "1.5.0",
            "value": " 1.90M/1.90M [00:00&lt;00:00, 2.54MiB/s]",
            "_view_count": null,
            "_view_module_version": "1.5.0",
            "description_tooltip": null,
            "_model_module": "@jupyter-widgets/controls",
            "layout": "IPY_MODEL_a14fff5cdd464c64b2d29bfd58917bea"
          }
        },
        "7e4a7f6abfb24c249a45ba79246570d1": {
          "model_module": "@jupyter-widgets/controls",
          "model_name": "DescriptionStyleModel",
          "model_module_version": "1.5.0",
          "state": {
            "_view_name": "StyleView",
            "_model_name": "DescriptionStyleModel",
            "description_width": "",
            "_view_module": "@jupyter-widgets/base",
            "_model_module_version": "1.5.0",
            "_view_count": null,
            "_view_module_version": "1.2.0",
            "_model_module": "@jupyter-widgets/controls"
          }
        },
        "d16f171261194617b3ecc0d45c6aad60": {
          "model_module": "@jupyter-widgets/base",
          "model_name": "LayoutModel",
          "model_module_version": "1.2.0",
          "state": {
            "_view_name": "LayoutView",
            "grid_template_rows": null,
            "right": null,
            "justify_content": null,
            "_view_module": "@jupyter-widgets/base",
            "overflow": null,
            "_model_module_version": "1.2.0",
            "_view_count": null,
            "flex_flow": null,
            "width": null,
            "min_width": null,
            "border": null,
            "align_items": null,
            "bottom": null,
            "_model_module": "@jupyter-widgets/base",
            "top": null,
            "grid_column": null,
            "overflow_y": null,
            "overflow_x": null,
            "grid_auto_flow": null,
            "grid_area": null,
            "grid_template_columns": null,
            "flex": null,
            "_model_name": "LayoutModel",
            "justify_items": null,
            "grid_row": null,
            "max_height": null,
            "align_content": null,
            "visibility": null,
            "align_self": null,
            "height": null,
            "min_height": null,
            "padding": null,
            "grid_auto_rows": null,
            "grid_gap": null,
            "max_width": null,
            "order": null,
            "_view_module_version": "1.2.0",
            "grid_template_areas": null,
            "object_position": null,
            "object_fit": null,
            "grid_auto_columns": null,
            "margin": null,
            "display": null,
            "left": null
          }
        },
        "8f691720674a4b9cb91dbe029c313fb9": {
          "model_module": "@jupyter-widgets/controls",
          "model_name": "ProgressStyleModel",
          "model_module_version": "1.5.0",
          "state": {
            "_view_name": "StyleView",
            "_model_name": "ProgressStyleModel",
            "description_width": "",
            "_view_module": "@jupyter-widgets/base",
            "_model_module_version": "1.5.0",
            "_view_count": null,
            "_view_module_version": "1.2.0",
            "bar_color": null,
            "_model_module": "@jupyter-widgets/controls"
          }
        },
        "e9e902ff6cdf410ba8a1011550743185": {
          "model_module": "@jupyter-widgets/base",
          "model_name": "LayoutModel",
          "model_module_version": "1.2.0",
          "state": {
            "_view_name": "LayoutView",
            "grid_template_rows": null,
            "right": null,
            "justify_content": null,
            "_view_module": "@jupyter-widgets/base",
            "overflow": null,
            "_model_module_version": "1.2.0",
            "_view_count": null,
            "flex_flow": null,
            "width": null,
            "min_width": null,
            "border": null,
            "align_items": null,
            "bottom": null,
            "_model_module": "@jupyter-widgets/base",
            "top": null,
            "grid_column": null,
            "overflow_y": null,
            "overflow_x": null,
            "grid_auto_flow": null,
            "grid_area": null,
            "grid_template_columns": null,
            "flex": null,
            "_model_name": "LayoutModel",
            "justify_items": null,
            "grid_row": null,
            "max_height": null,
            "align_content": null,
            "visibility": null,
            "align_self": null,
            "height": null,
            "min_height": null,
            "padding": null,
            "grid_auto_rows": null,
            "grid_gap": null,
            "max_width": null,
            "order": null,
            "_view_module_version": "1.2.0",
            "grid_template_areas": null,
            "object_position": null,
            "object_fit": null,
            "grid_auto_columns": null,
            "margin": null,
            "display": null,
            "left": null
          }
        },
        "ca6d912c0a0c434e82cbc26070eb392d": {
          "model_module": "@jupyter-widgets/controls",
          "model_name": "DescriptionStyleModel",
          "model_module_version": "1.5.0",
          "state": {
            "_view_name": "StyleView",
            "_model_name": "DescriptionStyleModel",
            "description_width": "",
            "_view_module": "@jupyter-widgets/base",
            "_model_module_version": "1.5.0",
            "_view_count": null,
            "_view_module_version": "1.2.0",
            "_model_module": "@jupyter-widgets/controls"
          }
        },
        "a14fff5cdd464c64b2d29bfd58917bea": {
          "model_module": "@jupyter-widgets/base",
          "model_name": "LayoutModel",
          "model_module_version": "1.2.0",
          "state": {
            "_view_name": "LayoutView",
            "grid_template_rows": null,
            "right": null,
            "justify_content": null,
            "_view_module": "@jupyter-widgets/base",
            "overflow": null,
            "_model_module_version": "1.2.0",
            "_view_count": null,
            "flex_flow": null,
            "width": null,
            "min_width": null,
            "border": null,
            "align_items": null,
            "bottom": null,
            "_model_module": "@jupyter-widgets/base",
            "top": null,
            "grid_column": null,
            "overflow_y": null,
            "overflow_x": null,
            "grid_auto_flow": null,
            "grid_area": null,
            "grid_template_columns": null,
            "flex": null,
            "_model_name": "LayoutModel",
            "justify_items": null,
            "grid_row": null,
            "max_height": null,
            "align_content": null,
            "visibility": null,
            "align_self": null,
            "height": null,
            "min_height": null,
            "padding": null,
            "grid_auto_rows": null,
            "grid_gap": null,
            "max_width": null,
            "order": null,
            "_view_module_version": "1.2.0",
            "grid_template_areas": null,
            "object_position": null,
            "object_fit": null,
            "grid_auto_columns": null,
            "margin": null,
            "display": null,
            "left": null
          }
        }
      }
    }
  },
  "cells": [
    {
      "cell_type": "code",
      "metadata": {
        "id": "w7q7YA4FDEXS"
      },
      "source": [
        "!pip install python-terrier gensim"
      ],
      "execution_count": null,
      "outputs": []
    },
    {
      "cell_type": "code",
      "metadata": {
        "id": "yrXozX4XD5tE"
      },
      "source": [
        "import pyterrier as pt\n",
        "if not pt.started():\n",
        "  pt.init()\n",
        "\n",
        "import pandas as pd\n",
        "pd.set_option('display.max_colwidth', 150)\n",
        "pd.set_option('display.max_rows', 200)"
      ],
      "execution_count": null,
      "outputs": []
    },
    {
      "cell_type": "code",
      "metadata": {
        "colab": {
          "base_uri": "https://localhost:8080/",
          "height": 847
        },
        "id": "k3Ofxpd8EFpD",
        "outputId": "d6ba6037-6661-498c-bcf2-f7cde5e22d6f"
      },
      "source": [
        "pt.list_datasets()"
      ],
      "execution_count": 3,
      "outputs": [
        {
          "output_type": "execute_result",
          "data": {
            "text/html": [
              "<div>\n",
              "<style scoped>\n",
              "    .dataframe tbody tr th:only-of-type {\n",
              "        vertical-align: middle;\n",
              "    }\n",
              "\n",
              "    .dataframe tbody tr th {\n",
              "        vertical-align: top;\n",
              "    }\n",
              "\n",
              "    .dataframe thead th {\n",
              "        text-align: right;\n",
              "    }\n",
              "</style>\n",
              "<table border=\"1\" class=\"dataframe\">\n",
              "  <thead>\n",
              "    <tr style=\"text-align: right;\">\n",
              "      <th></th>\n",
              "      <th>dataset</th>\n",
              "      <th>topics</th>\n",
              "      <th>topics_lang</th>\n",
              "      <th>qrels</th>\n",
              "      <th>corpus</th>\n",
              "      <th>corpus_lang</th>\n",
              "      <th>index</th>\n",
              "      <th>info_url</th>\n",
              "    </tr>\n",
              "  </thead>\n",
              "  <tbody>\n",
              "    <tr>\n",
              "      <th>0</th>\n",
              "      <td>50pct</td>\n",
              "      <td>[training, validation]</td>\n",
              "      <td>en</td>\n",
              "      <td>[training, validation]</td>\n",
              "      <td>None</td>\n",
              "      <td>None</td>\n",
              "      <td>[ex1, ex2]</td>\n",
              "      <td>None</td>\n",
              "    </tr>\n",
              "    <tr>\n",
              "      <th>1</th>\n",
              "      <td>antique</td>\n",
              "      <td>[train, test]</td>\n",
              "      <td>en</td>\n",
              "      <td>[train, test]</td>\n",
              "      <td>True</td>\n",
              "      <td>en</td>\n",
              "      <td>None</td>\n",
              "      <td>https://ciir.cs.umass.edu/downloads/Antique/readme.txt</td>\n",
              "    </tr>\n",
              "    <tr>\n",
              "      <th>2</th>\n",
              "      <td>vaswani</td>\n",
              "      <td>True</td>\n",
              "      <td>en</td>\n",
              "      <td>True</td>\n",
              "      <td>True</td>\n",
              "      <td>en</td>\n",
              "      <td>True</td>\n",
              "      <td>http://ir.dcs.gla.ac.uk/resources/test_collections/npl/</td>\n",
              "    </tr>\n",
              "    <tr>\n",
              "      <th>3</th>\n",
              "      <td>msmarco_document</td>\n",
              "      <td>[train, dev, test, test-2020, leaderboard-2020]</td>\n",
              "      <td>en</td>\n",
              "      <td>[train, dev, test, test-2020]</td>\n",
              "      <td>True</td>\n",
              "      <td>en</td>\n",
              "      <td>True</td>\n",
              "      <td>https://microsoft.github.io/msmarco/</td>\n",
              "    </tr>\n",
              "    <tr>\n",
              "      <th>4</th>\n",
              "      <td>msmarcov2_document</td>\n",
              "      <td>[train, dev1, dev2, valid1, valid2, trec_2021]</td>\n",
              "      <td>en</td>\n",
              "      <td>[train, dev1, dev2, valid1, valid2]</td>\n",
              "      <td>None</td>\n",
              "      <td>None</td>\n",
              "      <td>True</td>\n",
              "      <td>https://microsoft.github.io/msmarco/TREC-Deep-Learning.html</td>\n",
              "    </tr>\n",
              "    <tr>\n",
              "      <th>...</th>\n",
              "      <td>...</td>\n",
              "      <td>...</td>\n",
              "      <td>...</td>\n",
              "      <td>...</td>\n",
              "      <td>...</td>\n",
              "      <td>...</td>\n",
              "      <td>...</td>\n",
              "      <td>...</td>\n",
              "    </tr>\n",
              "    <tr>\n",
              "      <th>404</th>\n",
              "      <td>irds:trec-fair-2021</td>\n",
              "      <td>None</td>\n",
              "      <td>None</td>\n",
              "      <td>None</td>\n",
              "      <td>True</td>\n",
              "      <td>en</td>\n",
              "      <td>None</td>\n",
              "      <td>https://ir-datasets.com/trec-fair-2021.html</td>\n",
              "    </tr>\n",
              "    <tr>\n",
              "      <th>405</th>\n",
              "      <td>irds:trec-fair-2021/train</td>\n",
              "      <td>[text, keywords, scope, homepage]</td>\n",
              "      <td>en</td>\n",
              "      <td>True</td>\n",
              "      <td>True</td>\n",
              "      <td>en</td>\n",
              "      <td>None</td>\n",
              "      <td>https://ir-datasets.com/trec-fair-2021.html#trec-fair-2021/train</td>\n",
              "    </tr>\n",
              "    <tr>\n",
              "      <th>406</th>\n",
              "      <td>irds:trec-fair-2021/eval</td>\n",
              "      <td>[text, keywords, scope]</td>\n",
              "      <td>en</td>\n",
              "      <td>None</td>\n",
              "      <td>True</td>\n",
              "      <td>en</td>\n",
              "      <td>None</td>\n",
              "      <td>https://ir-datasets.com/trec-fair-2021.html#trec-fair-2021/eval</td>\n",
              "    </tr>\n",
              "    <tr>\n",
              "      <th>407</th>\n",
              "      <td>trec-deep-learning-docs</td>\n",
              "      <td>[train, dev, test, test-2020, leaderboard-2020]</td>\n",
              "      <td>en</td>\n",
              "      <td>[train, dev, test, test-2020]</td>\n",
              "      <td>True</td>\n",
              "      <td>en</td>\n",
              "      <td>True</td>\n",
              "      <td>https://microsoft.github.io/msmarco/</td>\n",
              "    </tr>\n",
              "    <tr>\n",
              "      <th>408</th>\n",
              "      <td>trec-deep-learning-passages</td>\n",
              "      <td>[train, dev, dev.small, eval, eval.small, test-2019, test-2020]</td>\n",
              "      <td>en</td>\n",
              "      <td>[train, dev, test-2019, test-2020, dev.small]</td>\n",
              "      <td>True</td>\n",
              "      <td>en</td>\n",
              "      <td>True</td>\n",
              "      <td>https://microsoft.github.io/MSMARCO-Passage-Ranking/</td>\n",
              "    </tr>\n",
              "  </tbody>\n",
              "</table>\n",
              "<p>298 rows × 8 columns</p>\n",
              "</div>"
            ],
            "text/plain": [
              "                         dataset  ...                                                          info_url\n",
              "0                          50pct  ...                                                              None\n",
              "1                        antique  ...            https://ciir.cs.umass.edu/downloads/Antique/readme.txt\n",
              "2                        vaswani  ...           http://ir.dcs.gla.ac.uk/resources/test_collections/npl/\n",
              "3               msmarco_document  ...                              https://microsoft.github.io/msmarco/\n",
              "4             msmarcov2_document  ...       https://microsoft.github.io/msmarco/TREC-Deep-Learning.html\n",
              "..                           ...  ...                                                               ...\n",
              "404          irds:trec-fair-2021  ...                       https://ir-datasets.com/trec-fair-2021.html\n",
              "405    irds:trec-fair-2021/train  ...  https://ir-datasets.com/trec-fair-2021.html#trec-fair-2021/train\n",
              "406     irds:trec-fair-2021/eval  ...   https://ir-datasets.com/trec-fair-2021.html#trec-fair-2021/eval\n",
              "407      trec-deep-learning-docs  ...                              https://microsoft.github.io/msmarco/\n",
              "408  trec-deep-learning-passages  ...              https://microsoft.github.io/MSMARCO-Passage-Ranking/\n",
              "\n",
              "[298 rows x 8 columns]"
            ]
          },
          "metadata": {},
          "execution_count": 3
        }
      ]
    },
    {
      "cell_type": "code",
      "metadata": {
        "id": "UwMM6b2kEIiN"
      },
      "source": [
        "USERNAME = \"2549408b\"\n",
        "PASSWORD = \"335cf17f\"\n",
        "\n",
        "dotgov_50pct = pt.get_dataset(\"50pct\", user=USERNAME, password=PASSWORD)\n",
        "dotgov_topicsqrels =  pt.get_dataset(\"trec-wt-2004\")#50% of TREC GOV corpus"
      ],
      "execution_count": 4,
      "outputs": []
    },
    {
      "cell_type": "code",
      "metadata": {
        "colab": {
          "base_uri": "https://localhost:8080/",
          "height": 354,
          "referenced_widgets": [
            "e2923d60b329468eab1b5240f148b61e",
            "33895685b4f04e2ba08db31f03d04d12",
            "7d7953aa38b04e43a9f0b1fbc3a9c314",
            "95de65010745436195b8204b0124a264",
            "13490858993545e787733f31320cd721",
            "12d62f7e64ab4b859b397c34116952b9",
            "a006da4fc9fc474cb85e3a25b10852d0",
            "c05b5532a9dd4397827d2df043a861a2",
            "588730c2307a411493de8e63f7b05685",
            "e42de1f033414b1bb585af9dcffd59f2",
            "1fa09590a2e24ed3b0cadde08ae05feb"
          ]
        },
        "id": "Qk_7J9CNEOBb",
        "outputId": "bde53440-65be-40d3-ce86-d9e3bb41cedc"
      },
      "source": [
        "indexref = dotgov_50pct.get_index()\n",
        "index = pt.IndexFactory.of(indexref)\n"
      ],
      "execution_count": 5,
      "outputs": [
        {
          "output_type": "stream",
          "name": "stdout",
          "text": [
            "Downloading 50pct index to /root/.pyterrier/corpora/50pct/index/ex1\n"
          ]
        },
        {
          "output_type": "display_data",
          "data": {
            "application/vnd.jupyter.widget-view+json": {
              "model_id": "e2923d60b329468eab1b5240f148b61e",
              "version_minor": 0,
              "version_major": 2
            },
            "text/plain": [
              "data.meta-0.fsomapfile:   0%|          | 0.00/50.1M [00:00<?, ?iB/s]"
            ]
          },
          "metadata": {}
        },
        {
          "output_type": "display_data",
          "data": {
            "application/vnd.jupyter.widget-view+json": {
              "model_id": "b7bbc7a78b724af2b707fafb76536a08",
              "version_minor": 0,
              "version_major": 2
            },
            "text/plain": [
              "data.direct.bf:   0%|          | 0.00/263M [00:00<?, ?iB/s]"
            ]
          },
          "metadata": {}
        },
        {
          "output_type": "display_data",
          "data": {
            "application/vnd.jupyter.widget-view+json": {
              "model_id": "e55188da80824cd9b8931be0f12fdf11",
              "version_minor": 0,
              "version_major": 2
            },
            "text/plain": [
              "data.document.fsarrayfile:   0%|          | 0.00/13.1M [00:00<?, ?iB/s]"
            ]
          },
          "metadata": {}
        },
        {
          "output_type": "display_data",
          "data": {
            "application/vnd.jupyter.widget-view+json": {
              "model_id": "1e16bfd1bbc146fe9bcb8de930b6ba12",
              "version_minor": 0,
              "version_major": 2
            },
            "text/plain": [
              "data.inverted.bf:   0%|          | 0.00/273M [00:00<?, ?iB/s]"
            ]
          },
          "metadata": {}
        },
        {
          "output_type": "display_data",
          "data": {
            "application/vnd.jupyter.widget-view+json": {
              "model_id": "29a7e248fa84434b8b9d9c20be9bbab2",
              "version_minor": 0,
              "version_major": 2
            },
            "text/plain": [
              "data.lexicon.fsomapfile:   0%|          | 0.00/168M [00:00<?, ?iB/s]"
            ]
          },
          "metadata": {}
        },
        {
          "output_type": "display_data",
          "data": {
            "application/vnd.jupyter.widget-view+json": {
              "model_id": "e5767033509247ad8f98d994db8d3ce3",
              "version_minor": 0,
              "version_major": 2
            },
            "text/plain": [
              "data.lexicon.fsomaphash:   0%|          | 0.00/0.99k [00:00<?, ?iB/s]"
            ]
          },
          "metadata": {}
        },
        {
          "output_type": "display_data",
          "data": {
            "application/vnd.jupyter.widget-view+json": {
              "model_id": "949f61db9a8b499aa5622666604675af",
              "version_minor": 0,
              "version_major": 2
            },
            "text/plain": [
              "data.lexicon.fsomapid:   0%|          | 0.00/7.80M [00:00<?, ?iB/s]"
            ]
          },
          "metadata": {}
        },
        {
          "output_type": "display_data",
          "data": {
            "application/vnd.jupyter.widget-view+json": {
              "model_id": "bf1dbf99028549b4891efbcf135fa525",
              "version_minor": 0,
              "version_major": 2
            },
            "text/plain": [
              "data.meta.idx:   0%|          | 0.00/6.16M [00:00<?, ?iB/s]"
            ]
          },
          "metadata": {}
        },
        {
          "output_type": "display_data",
          "data": {
            "application/vnd.jupyter.widget-view+json": {
              "model_id": "a58b0385cd9b45abb6ac762305b25245",
              "version_minor": 0,
              "version_major": 2
            },
            "text/plain": [
              "data.meta.zdata:   0%|          | 0.00/19.2M [00:00<?, ?iB/s]"
            ]
          },
          "metadata": {}
        },
        {
          "output_type": "display_data",
          "data": {
            "application/vnd.jupyter.widget-view+json": {
              "model_id": "a7c20fc4fc284f2d93ec09a99d20d668",
              "version_minor": 0,
              "version_major": 2
            },
            "text/plain": [
              "data.properties:   0%|          | 0.00/4.13k [00:00<?, ?iB/s]"
            ]
          },
          "metadata": {}
        }
      ]
    },
    {
      "cell_type": "code",
      "metadata": {
        "colab": {
          "base_uri": "https://localhost:8080/"
        },
        "id": "Ilg_mrVkEcdq",
        "outputId": "73da9b97-1e9f-4643-9c30-965bb5f0d521"
      },
      "source": [
        "print(index.getCollectionStatistics())"
      ],
      "execution_count": 6,
      "outputs": [
        {
          "output_type": "stream",
          "name": "stdout",
          "text": [
            "Number of documents: 807775\n",
            "Number of terms: 2043788\n",
            "Number of postings: 177737957\n",
            "Number of fields: 0\n",
            "Number of tokens: 572916194\n",
            "Field names: []\n",
            "Positions:   false\n",
            "\n"
          ]
        }
      ]
    },
    {
      "cell_type": "code",
      "metadata": {
        "colab": {
          "base_uri": "https://localhost:8080/",
          "height": 322,
          "referenced_widgets": [
            "40f51fa7222f47178ecdcab5f1988fd4",
            "21f5507fbbe34288920d1e8130c1ffae",
            "127fb76244a0467fae5fceb0c619f321",
            "a2a63e4948244fdab250cf194b8885e6",
            "533f311bd20248089e2dc5e5227be0f1",
            "350390d07bde451088b40ac9ee1c1965",
            "2978d40e4b6c44f7ad117e732a642b3a",
            "91a9d8653b4a4728961cf7fcce1f238f",
            "446daa9422364e959540bc85a4d23fe2",
            "10c7c1da934e4f959dfaef57bd077d58",
            "291ec393f410424da5f9da4f182751d1"
          ]
        },
        "id": "YzjhSHfzEfSR",
        "outputId": "5c1f2f34-b9d7-4a0a-eb72-9cd85532a345"
      },
      "source": [
        "#three sets of topics: hp,np,td\n",
        "topics = dotgov_topicsqrels.get_topics(variant=\"hp\")\n",
        "topics.head(5) #variant is just a diff set of qrels"
      ],
      "execution_count": 7,
      "outputs": [
        {
          "output_type": "stream",
          "name": "stdout",
          "text": [
            "Downloading trec-wt-2004 topics_prefixed to /root/.pyterrier/corpora/trec-wt-2004/Web2004.query.stream.trecformat.txt\n"
          ]
        },
        {
          "output_type": "display_data",
          "data": {
            "application/vnd.jupyter.widget-view+json": {
              "model_id": "40f51fa7222f47178ecdcab5f1988fd4",
              "version_minor": 0,
              "version_major": 2
            },
            "text/plain": [
              "Web2004.query.stream.trecformat.txt:   0%|          | 0.00/15.3k [00:00<?, ?iB/s]"
            ]
          },
          "metadata": {}
        },
        {
          "output_type": "stream",
          "name": "stdout",
          "text": [
            "Downloading trec-wt-2004 topics_map to /root/.pyterrier/corpora/trec-wt-2004/04.topic-map.official.txt\n"
          ]
        },
        {
          "output_type": "display_data",
          "data": {
            "application/vnd.jupyter.widget-view+json": {
              "model_id": "c22a806ba6f646d1a6c4779ce44022fd",
              "version_minor": 0,
              "version_major": 2
            },
            "text/plain": [
              "04.topic-map.official.txt:   0%|          | 0.00/2.53k [00:00<?, ?iB/s]"
            ]
          },
          "metadata": {}
        },
        {
          "output_type": "execute_result",
          "data": {
            "text/html": [
              "<div>\n",
              "<style scoped>\n",
              "    .dataframe tbody tr th:only-of-type {\n",
              "        vertical-align: middle;\n",
              "    }\n",
              "\n",
              "    .dataframe tbody tr th {\n",
              "        vertical-align: top;\n",
              "    }\n",
              "\n",
              "    .dataframe thead th {\n",
              "        text-align: right;\n",
              "    }\n",
              "</style>\n",
              "<table border=\"1\" class=\"dataframe\">\n",
              "  <thead>\n",
              "    <tr style=\"text-align: right;\">\n",
              "      <th></th>\n",
              "      <th>qid</th>\n",
              "      <th>query</th>\n",
              "    </tr>\n",
              "  </thead>\n",
              "  <tbody>\n",
              "    <tr>\n",
              "      <th>0</th>\n",
              "      <td>6</td>\n",
              "      <td>philadelphia streets</td>\n",
              "    </tr>\n",
              "    <tr>\n",
              "      <th>1</th>\n",
              "      <td>7</td>\n",
              "      <td>togo embassy</td>\n",
              "    </tr>\n",
              "    <tr>\n",
              "      <th>2</th>\n",
              "      <td>9</td>\n",
              "      <td>baltimore</td>\n",
              "    </tr>\n",
              "    <tr>\n",
              "      <th>3</th>\n",
              "      <td>17</td>\n",
              "      <td>secure linux</td>\n",
              "    </tr>\n",
              "    <tr>\n",
              "      <th>4</th>\n",
              "      <td>29</td>\n",
              "      <td>grand canyon monitoring and research center</td>\n",
              "    </tr>\n",
              "  </tbody>\n",
              "</table>\n",
              "</div>"
            ],
            "text/plain": [
              "  qid                                        query\n",
              "0   6                         philadelphia streets\n",
              "1   7                                 togo embassy\n",
              "2   9                                    baltimore\n",
              "3  17                                 secure linux\n",
              "4  29  grand canyon monitoring and research center"
            ]
          },
          "metadata": {},
          "execution_count": 7
        }
      ]
    },
    {
      "cell_type": "code",
      "metadata": {
        "colab": {
          "base_uri": "https://localhost:8080/",
          "height": 66,
          "referenced_widgets": [
            "c6966f94d44f47538fcfdfdbc08b5902",
            "31cfe830635240519677aac03187527e",
            "b641087c826b47d5813c78f3e30f6aec",
            "7357b79f82124f95b75daeef91d139a4",
            "a473cf84f8da4557ac549985792eec18",
            "7e4a7f6abfb24c249a45ba79246570d1",
            "d16f171261194617b3ecc0d45c6aad60",
            "8f691720674a4b9cb91dbe029c313fb9",
            "e9e902ff6cdf410ba8a1011550743185",
            "ca6d912c0a0c434e82cbc26070eb392d",
            "a14fff5cdd464c64b2d29bfd58917bea"
          ]
        },
        "id": "6dxIvbrBEqtf",
        "outputId": "995f19c9-de16-47ea-abd3-6efea9616774"
      },
      "source": [
        " retr= pt.BatchRetrieve(index, wmodel=\"TF_IDF\")#tdidf retreiver\n",
        " qrels = dotgov_topicsqrels.get_qrels(variant='hp') #evaluating tfidf retr"
      ],
      "execution_count": 8,
      "outputs": [
        {
          "output_type": "stream",
          "name": "stdout",
          "text": [
            "Downloading trec-wt-2004 qrels to /root/.pyterrier/corpora/trec-wt-2004/04.qrels.web.mixed.txt\n"
          ]
        },
        {
          "output_type": "display_data",
          "data": {
            "application/vnd.jupyter.widget-view+json": {
              "model_id": "c6966f94d44f47538fcfdfdbc08b5902",
              "version_minor": 0,
              "version_major": 2
            },
            "text/plain": [
              "04.qrels.web.mixed.txt:   0%|          | 0.00/1.90M [00:00<?, ?iB/s]"
            ]
          },
          "metadata": {}
        }
      ]
    },
    {
      "cell_type": "code",
      "metadata": {
        "colab": {
          "base_uri": "https://localhost:8080/"
        },
        "id": "xgUoHs3qE5zZ",
        "outputId": "630cadaa-4ae9-4e0e-e412-502c3a7c2d47"
      },
      "source": [
        "res = retr.transform(topics) \n",
        "eval = pt.Utils.evaluate(res, qrels, metrics=[\"map\"]) #to evalute the results #mean average precision\n",
        "eval"
      ],
      "execution_count": 9,
      "outputs": [
        {
          "output_type": "execute_result",
          "data": {
            "text/plain": [
              "{'map': 0.20894845478512017}"
            ]
          },
          "metadata": {},
          "execution_count": 9
        }
      ]
    },
    {
      "cell_type": "code",
      "metadata": {
        "colab": {
          "base_uri": "https://localhost:8080/",
          "height": 80
        },
        "id": "gDlagGVdFJBp",
        "outputId": "9b6994e4-81f4-47ab-f47e-f9417234a92e"
      },
      "source": [
        "pt.Experiment(\n",
        "    [retr], #our model Tf-IDF A(B) \n",
        "     dotgov_topicsqrels.get_topics(variant='hp'), #per-defined query in the dataset c\n",
        "     dotgov_topicsqrels.get_qrels(variant='hp'), #pre -defined query values in the dataset D\n",
        "     eval_metrics=['map']\n",
        ") #A(B) - C(D) #to evaluate one or more retreival systems at once"
      ],
      "execution_count": 10,
      "outputs": [
        {
          "output_type": "execute_result",
          "data": {
            "text/html": [
              "<div>\n",
              "<style scoped>\n",
              "    .dataframe tbody tr th:only-of-type {\n",
              "        vertical-align: middle;\n",
              "    }\n",
              "\n",
              "    .dataframe tbody tr th {\n",
              "        vertical-align: top;\n",
              "    }\n",
              "\n",
              "    .dataframe thead th {\n",
              "        text-align: right;\n",
              "    }\n",
              "</style>\n",
              "<table border=\"1\" class=\"dataframe\">\n",
              "  <thead>\n",
              "    <tr style=\"text-align: right;\">\n",
              "      <th></th>\n",
              "      <th>name</th>\n",
              "      <th>map</th>\n",
              "    </tr>\n",
              "  </thead>\n",
              "  <tbody>\n",
              "    <tr>\n",
              "      <th>0</th>\n",
              "      <td>BR(TF_IDF)</td>\n",
              "      <td>0.208948</td>\n",
              "    </tr>\n",
              "  </tbody>\n",
              "</table>\n",
              "</div>"
            ],
            "text/plain": [
              "         name       map\n",
              "0  BR(TF_IDF)  0.208948"
            ]
          },
          "metadata": {},
          "execution_count": 10
        }
      ]
    },
    {
      "cell_type": "code",
      "metadata": {
        "id": "KcnqOEH8FXI5"
      },
      "source": [
        "#dataset\n",
        "dataset=pt.get_dataset(\"trec-wt-2004\")\n",
        "#defining three models\n",
        "tfidf = pt.BatchRetrieve(index, wmodel=\"TF_IDF\") #retr\n",
        "bm25 = pt.BatchRetrieve(index, wmodel=\"BM25\")\n",
        "pl2 = pt.BatchRetrieve(index, wmodel=\"PL2\")"
      ],
      "execution_count": 11,
      "outputs": []
    },
    {
      "cell_type": "code",
      "metadata": {
        "colab": {
          "base_uri": "https://localhost:8080/",
          "height": 142
        },
        "id": "W_ci-Jj_FiL4",
        "outputId": "7c383e74-748c-4636-fce4-1765fae069f7"
      },
      "source": [
        "#for all variants\n",
        "pt.Experiment(\n",
        "    [tfidf, bm25,pl2],\n",
        "    dataset.get_topics(variant=\"all\"),\n",
        "    dataset.get_qrels(variant=\"all\"),\n",
        "    eval_metrics=[\"map\"],\n",
        "    round={\"map\" : 4},\n",
        "    baseline=0,\n",
        "    names=[\"TF_IDF_ALL\", \"BM25_ALL\",\"PL2_ALL\"]\n",
        ") #PL2 is the most effective weighting model in terms of average MAP  across the 2 topic sets"
      ],
      "execution_count": 15,
      "outputs": [
        {
          "output_type": "execute_result",
          "data": {
            "text/html": [
              "<div>\n",
              "<style scoped>\n",
              "    .dataframe tbody tr th:only-of-type {\n",
              "        vertical-align: middle;\n",
              "    }\n",
              "\n",
              "    .dataframe tbody tr th {\n",
              "        vertical-align: top;\n",
              "    }\n",
              "\n",
              "    .dataframe thead th {\n",
              "        text-align: right;\n",
              "    }\n",
              "</style>\n",
              "<table border=\"1\" class=\"dataframe\">\n",
              "  <thead>\n",
              "    <tr style=\"text-align: right;\">\n",
              "      <th></th>\n",
              "      <th>name</th>\n",
              "      <th>map</th>\n",
              "      <th>map +</th>\n",
              "      <th>map -</th>\n",
              "      <th>map p-value</th>\n",
              "    </tr>\n",
              "  </thead>\n",
              "  <tbody>\n",
              "    <tr>\n",
              "      <th>0</th>\n",
              "      <td>TF_IDF_ALL</td>\n",
              "      <td>0.2422</td>\n",
              "      <td>NaN</td>\n",
              "      <td>NaN</td>\n",
              "      <td>NaN</td>\n",
              "    </tr>\n",
              "    <tr>\n",
              "      <th>1</th>\n",
              "      <td>BM25_ALL</td>\n",
              "      <td>0.2435</td>\n",
              "      <td>43.0</td>\n",
              "      <td>62.0</td>\n",
              "      <td>0.770693</td>\n",
              "    </tr>\n",
              "    <tr>\n",
              "      <th>2</th>\n",
              "      <td>PL2_ALL</td>\n",
              "      <td>0.2446</td>\n",
              "      <td>73.0</td>\n",
              "      <td>92.0</td>\n",
              "      <td>0.796196</td>\n",
              "    </tr>\n",
              "  </tbody>\n",
              "</table>\n",
              "</div>"
            ],
            "text/plain": [
              "         name     map  map +  map -  map p-value\n",
              "0  TF_IDF_ALL  0.2422    NaN    NaN          NaN\n",
              "1    BM25_ALL  0.2435   43.0   62.0     0.770693\n",
              "2     PL2_ALL  0.2446   73.0   92.0     0.796196"
            ]
          },
          "metadata": {},
          "execution_count": 15
        }
      ]
    },
    {
      "cell_type": "code",
      "metadata": {
        "colab": {
          "base_uri": "https://localhost:8080/",
          "height": 162
        },
        "id": "QQBkNs3AFmTx",
        "outputId": "70f5d792-430d-44cc-9729-b5a703b6f816"
      },
      "source": [
        "#interpolated recall precision graphs\n",
        "pt.Experiment(\n",
        "    [tfidf, bm25,pl2],\n",
        "    dataset.get_topics(variant=\"hp\"),\n",
        "    dataset.get_qrels(variant=\"hp\"),\n",
        "    eval_metrics=[\"iprec_at_recall\"],\n",
        "    round={\"iprec_at_recall\" : 4},\n",
        "    \n",
        "    names=[\"TF_IDF_HP\", \"BM25_HP\",\"PL2_HP\"]\n",
        ") "
      ],
      "execution_count": 13,
      "outputs": [
        {
          "output_type": "execute_result",
          "data": {
            "text/html": [
              "<div>\n",
              "<style scoped>\n",
              "    .dataframe tbody tr th:only-of-type {\n",
              "        vertical-align: middle;\n",
              "    }\n",
              "\n",
              "    .dataframe tbody tr th {\n",
              "        vertical-align: top;\n",
              "    }\n",
              "\n",
              "    .dataframe thead th {\n",
              "        text-align: right;\n",
              "    }\n",
              "</style>\n",
              "<table border=\"1\" class=\"dataframe\">\n",
              "  <thead>\n",
              "    <tr style=\"text-align: right;\">\n",
              "      <th></th>\n",
              "      <th>name</th>\n",
              "      <th>IPrec@0.0</th>\n",
              "      <th>IPrec@0.1</th>\n",
              "      <th>IPrec@0.2</th>\n",
              "      <th>IPrec@0.3</th>\n",
              "      <th>IPrec@0.4</th>\n",
              "      <th>IPrec@0.5</th>\n",
              "      <th>IPrec@0.6</th>\n",
              "      <th>IPrec@0.7</th>\n",
              "      <th>IPrec@0.8</th>\n",
              "      <th>IPrec@0.9</th>\n",
              "      <th>IPrec@1.0</th>\n",
              "    </tr>\n",
              "  </thead>\n",
              "  <tbody>\n",
              "    <tr>\n",
              "      <th>0</th>\n",
              "      <td>TF_IDF_HP</td>\n",
              "      <td>0.213123</td>\n",
              "      <td>0.213123</td>\n",
              "      <td>0.213123</td>\n",
              "      <td>0.213123</td>\n",
              "      <td>0.213123</td>\n",
              "      <td>0.213123</td>\n",
              "      <td>0.206457</td>\n",
              "      <td>0.206457</td>\n",
              "      <td>0.206457</td>\n",
              "      <td>0.206457</td>\n",
              "      <td>0.206457</td>\n",
              "    </tr>\n",
              "    <tr>\n",
              "      <th>1</th>\n",
              "      <td>BM25_HP</td>\n",
              "      <td>0.222756</td>\n",
              "      <td>0.222756</td>\n",
              "      <td>0.222756</td>\n",
              "      <td>0.222756</td>\n",
              "      <td>0.222756</td>\n",
              "      <td>0.222756</td>\n",
              "      <td>0.216090</td>\n",
              "      <td>0.216090</td>\n",
              "      <td>0.216090</td>\n",
              "      <td>0.216090</td>\n",
              "      <td>0.216090</td>\n",
              "    </tr>\n",
              "    <tr>\n",
              "      <th>2</th>\n",
              "      <td>PL2_HP</td>\n",
              "      <td>0.229183</td>\n",
              "      <td>0.229183</td>\n",
              "      <td>0.229183</td>\n",
              "      <td>0.229183</td>\n",
              "      <td>0.229183</td>\n",
              "      <td>0.229183</td>\n",
              "      <td>0.222516</td>\n",
              "      <td>0.222516</td>\n",
              "      <td>0.222516</td>\n",
              "      <td>0.222516</td>\n",
              "      <td>0.222516</td>\n",
              "    </tr>\n",
              "  </tbody>\n",
              "</table>\n",
              "</div>"
            ],
            "text/plain": [
              "        name  IPrec@0.0  IPrec@0.1  ...  IPrec@0.8  IPrec@0.9  IPrec@1.0\n",
              "0  TF_IDF_HP   0.213123   0.213123  ...   0.206457   0.206457   0.206457\n",
              "1    BM25_HP   0.222756   0.222756  ...   0.216090   0.216090   0.216090\n",
              "2     PL2_HP   0.229183   0.229183  ...   0.222516   0.222516   0.222516\n",
              "\n",
              "[3 rows x 12 columns]"
            ]
          },
          "metadata": {},
          "execution_count": 13
        }
      ]
    },
    {
      "cell_type": "code",
      "metadata": {
        "colab": {
          "base_uri": "https://localhost:8080/",
          "height": 328
        },
        "id": "VgB4vWsRGHex",
        "outputId": "b9f34c80-2de2-4004-9b04-ee3b69bdedc8"
      },
      "source": [
        "TF_IDF_hp=[0.213123,\t0.213123,\t0.213123,\t0.213123,\t0.213123,\t0.213123,\t0.206457,\t0.206457,\t0.206457,\t0.206457,\t0.206457]\n",
        "BM_25_hp=[0.222756,\t0.222756,\t0.222756\t,0.222756,\t0.222756,\t0.222756,\t0.216090,\t0.216090\t,0.216090\t,0.216090,\t0.216090]\n",
        "PL_2_hp=[0.229183,\t0.229183,\t0.229183\t,0.229183\t,0.229183,\t0.229183\t,0.222516\t,0.222516,\t0.222516,\t0.222516,\t0.222516]\n",
        "import matplotlib.pyplot as plt\n",
        "import numpy as np\n",
        "fig, ax = plt.subplots()\n",
        "ax.plot(TF_IDF_hp, label=\"TF_IDF\")\n",
        "ax.plot(BM_25_hp, label=\"BM_25\")\n",
        "ax.plot(PL_2_hp,label=\"PL_2\")\n",
        "ax.set_xlabel('IPREC')\n",
        "#plt.yticks([0.1,0.2,0.3,0.4,0.5])\n",
        "plt.xticks([0,1,2,3,4,5,6,7,8,9,10],['IPrec@0.0','IPrec@0.1','IPrec@0.2','IPrec@0.3','IPrec@0.4','IPrec@0.5','IPrec@0.6','IPrec@0.7','IPrec@0.8','IPrec@0.9','IPrec@1.0'],\n",
        "           rotation=45)\n",
        "plt.title(\"Recall-Precision graph for hp\")\n",
        "ax.legend()\n",
        "plt.savefig(\"Recall-precision graph for hp\")\n",
        "plt.show()"
      ],
      "execution_count": 14,
      "outputs": [
        {
          "output_type": "display_data",
          "data": {
            "image/png": "[encoded data removed]",
            "text/plain": [
              "<Figure size 432x288 with 1 Axes>"
            ]
          },
          "metadata": {
            "needs_background": "light"
          }
        }
      ]
    },
    {
      "cell_type": "code",
      "metadata": {
        "id": "mFLo4mj6GP9w"
      },
      "source": [
        "#query expansion on the PL2 (best weighting model of all three)\n",
        "bo1 = pt.rewrite.Bo1QueryExpansion(index)\n",
        "pl2 = pt.BatchRetrieve(index, wmodel=\"PL2\")\n",
        "pipelineQE = pl2 >> bo1 >> pl2 "
      ],
      "execution_count": 16,
      "outputs": []
    },
    {
      "cell_type": "code",
      "metadata": {
        "colab": {
          "base_uri": "https://localhost:8080/",
          "height": 111
        },
        "id": "Vouq49adG6Wf",
        "outputId": "2c8fa1d8-2471-423d-feb8-35b183ecbc36"
      },
      "source": [
        "pt.Experiment([pl2, pipelineQE],\n",
        "            dataset.get_topics(variant=\"all\"),\n",
        "            dataset.get_qrels(variant=\"all\"),\n",
        "            [\"map\"],\n",
        "            round={\"map\" : 4},\n",
        "            baseline=0,\n",
        "    \n",
        "            names=[\"PL2_HP\",\"pipleline_PL2_HP\"]\n",
        "            )"
      ],
      "execution_count": 17,
      "outputs": [
        {
          "output_type": "execute_result",
          "data": {
            "text/html": [
              "<div>\n",
              "<style scoped>\n",
              "    .dataframe tbody tr th:only-of-type {\n",
              "        vertical-align: middle;\n",
              "    }\n",
              "\n",
              "    .dataframe tbody tr th {\n",
              "        vertical-align: top;\n",
              "    }\n",
              "\n",
              "    .dataframe thead th {\n",
              "        text-align: right;\n",
              "    }\n",
              "</style>\n",
              "<table border=\"1\" class=\"dataframe\">\n",
              "  <thead>\n",
              "    <tr style=\"text-align: right;\">\n",
              "      <th></th>\n",
              "      <th>name</th>\n",
              "      <th>map</th>\n",
              "      <th>map +</th>\n",
              "      <th>map -</th>\n",
              "      <th>map p-value</th>\n",
              "    </tr>\n",
              "  </thead>\n",
              "  <tbody>\n",
              "    <tr>\n",
              "      <th>0</th>\n",
              "      <td>PL2_HP</td>\n",
              "      <td>0.2446</td>\n",
              "      <td>NaN</td>\n",
              "      <td>NaN</td>\n",
              "      <td>NaN</td>\n",
              "    </tr>\n",
              "    <tr>\n",
              "      <th>1</th>\n",
              "      <td>pipleline_PL2_HP</td>\n",
              "      <td>0.2512</td>\n",
              "      <td>69.0</td>\n",
              "      <td>92.0</td>\n",
              "      <td>0.509105</td>\n",
              "    </tr>\n",
              "  </tbody>\n",
              "</table>\n",
              "</div>"
            ],
            "text/plain": [
              "               name     map  map +  map -  map p-value\n",
              "0            PL2_HP  0.2446    NaN    NaN          NaN\n",
              "1  pipleline_PL2_HP  0.2512   69.0   92.0     0.509105"
            ]
          },
          "metadata": {},
          "execution_count": 17
        }
      ]
    },
    {
      "cell_type": "code",
      "metadata": {
        "id": "F6KCy-qWHQcJ"
      },
      "source": [
        "data=pt.Experiment([pl2, pipelineQE],\n",
        "            dataset.get_topics(variant=\"td\"),\n",
        "            dataset.get_qrels(variant=\"td\"),\n",
        "            [\"map\"],\n",
        "            \n",
        "            perquery=True,\n",
        "    \n",
        "            names=[\"pl2_td\",\"piplelineBM_td\"]\n",
        "            )"
      ],
      "execution_count": 20,
      "outputs": []
    },
    {
      "cell_type": "code",
      "metadata": {
        "colab": {
          "base_uri": "https://localhost:8080/",
          "height": 146
        },
        "id": "nTmQ7iKhG_o3",
        "outputId": "dc8f6bed-6729-43f0-ec70-d7d50b12c921"
      },
      "source": [
        "mask = data[\"value\"] > 0.02\n",
        "\n",
        "y = data.loc[mask, \"value\"].tolist()\n",
        "x= data.loc[mask, \"qid\"].tolist()\n",
        "\n",
        "plt.bar(x,y)\n",
        "plt.xlabel(\"qid\")\n",
        "plt.ylabel(\"value\")\n",
        "\n",
        "plt.rcParams[\"figure.figsize\"] = (50,20)"
      ],
      "execution_count": 22,
      "outputs": [
        {
          "output_type": "display_data",
          "data": {
            "image/png": "[encoded data removed]",
            "text/plain": [
              "<Figure size 3600x504 with 1 Axes>"
            ]
          },
          "metadata": {
            "needs_background": "light"
          }
        }
      ]
    },
    {
      "cell_type": "markdown",
      "metadata": {
        "id": "Sqcc5gWyHmer"
      },
      "source": [
        "**Word Embeddings**\n",
        "\n",
        "Word2vec based query expansion model. Similar words has similar embedding vectors\n",
        "\n",
        "Gensim- Python toolkit for Word2vec model"
      ]
    },
    {
      "cell_type": "code",
      "metadata": {
        "colab": {
          "base_uri": "https://localhost:8080/"
        },
        "id": "uofdN_8nHMN3",
        "outputId": "c16a4680-494a-4ea3-f030-25084280d6b0"
      },
      "source": [
        "import gensim.downloader as api\n",
        "%time model = api.load(\"glove-wiki-gigaword-300\")\n",
        "#pre-trained word2vec\n"
      ],
      "execution_count": 23,
      "outputs": [
        {
          "output_type": "stream",
          "name": "stdout",
          "text": [
            "[==================================================] 100.0% 376.1/376.1MB downloaded\n",
            "CPU times: user 3min 56s, sys: 16 s, total: 4min 12s\n",
            "Wall time: 4min 31s\n"
          ]
        }
      ]
    },
    {
      "cell_type": "code",
      "metadata": {
        "colab": {
          "base_uri": "https://localhost:8080/"
        },
        "id": "kbIaBlEPIIe2",
        "outputId": "aeb77152-0515-404e-8db5-70eab158742e"
      },
      "source": [
        "emb = model.get_vector(\"capitalism\")\n",
        "print(emb.shape)\n",
        "print(emb)"
      ],
      "execution_count": 24,
      "outputs": [
        {
          "output_type": "stream",
          "name": "stdout",
          "text": [
            "(300,)\n",
            "[ 0.029571  -0.26027    0.27638   -0.52242   -0.15456    0.021228\n",
            " -0.19844    0.52877    0.98453   -0.7506     0.1905     0.16699\n",
            " -0.41054    0.22643    0.69543   -0.69814    0.70978   -0.08798\n",
            "  0.28759    0.61957   -0.094915   0.45109    0.76162   -0.16713\n",
            "  0.58875   -0.21896    0.42419    0.43977   -0.17451    0.16858\n",
            "  0.041086   0.31843    0.29785   -0.42722    0.010953   0.14435\n",
            "  0.36068   -0.30447    0.4224    -0.23193    0.15015    0.30814\n",
            " -0.045377  -0.22061    0.061524  -0.049047   0.11191    0.44138\n",
            " -0.88641   -0.28218   -0.071945  -0.57919    0.36774   -0.2149\n",
            "  0.37954   -0.17658   -0.017091   0.034995  -0.29899    0.20899\n",
            "  0.6783    -0.27885   -0.40205   -0.96349   -0.75525    0.74291\n",
            "  0.030328   0.052626   0.098442   0.24224    0.148      0.1498\n",
            " -0.38691   -0.17857    0.51182    0.10077   -0.41855    0.46617\n",
            "  0.19613    0.42988    0.056099  -0.5332     0.37639    0.3882\n",
            "  0.40806   -0.25835    0.5622     0.59752   -0.14522    0.10658\n",
            "  0.042123  -0.5431    -0.18532    0.045532  -0.10003   -0.62926\n",
            " -0.095532   0.60906   -0.37574    0.020763   0.42621    0.40628\n",
            " -0.10447    0.11187    0.27198    0.64885   -0.32033    0.6441\n",
            "  0.26867   -0.22055    0.14352   -0.49906    0.3146     0.28167\n",
            "  0.91514   -0.35878    0.48105   -0.0023297 -0.48394   -0.45374\n",
            " -0.013039  -0.42649   -0.22461    0.50597    0.51302   -0.41482\n",
            " -0.74742    0.39214   -0.25909   -0.47703    0.4526     0.39728\n",
            "  0.28183   -0.49335   -0.94973    0.24629   -0.089498  -0.01205\n",
            "  0.1324     0.098918   0.043757  -0.12461   -0.67122    0.15933\n",
            " -0.044582  -0.30657    0.077375  -0.18563   -0.7059     0.90674\n",
            " -0.69409    0.071417  -0.26886    0.094413   0.26521    0.58528\n",
            " -0.061328   0.49218    0.21439   -0.61755    0.32112    0.14927\n",
            " -0.063557   0.045453  -0.55976   -0.22515    0.15821   -0.030899\n",
            "  0.035949  -0.76322   -0.38039   -0.56163   -0.67834   -0.080062\n",
            " -0.29314   -0.48151   -0.20838    0.35428   -0.25112   -0.057102\n",
            "  0.61437    0.31918    0.044497  -0.39955    0.43201    0.32747\n",
            " -0.55303   -0.028839   0.66689   -0.41402    0.19256    0.50946\n",
            " -0.11123    0.30873    0.14227    0.42076   -0.23325   -0.048862\n",
            "  0.23708   -0.057742   0.23312   -0.49153    0.053823  -0.20314\n",
            " -0.24395   -0.35362   -0.028405   0.30797    0.1177     0.19286\n",
            " -0.5157    -0.33573   -0.15733   -0.21065   -0.087247   1.1331\n",
            "  0.084113  -0.034628  -0.31254    0.55283   -0.74005    0.79809\n",
            "  0.28359   -0.23582   -0.036984  -0.079101  -0.36788    0.51093\n",
            "  0.50806    0.31483    0.04569   -0.39424    0.36452    0.50264\n",
            " -1.1438     0.24341    0.14255   -0.31706   -0.12988   -0.0087405\n",
            " -0.69951   -0.16829    0.26891    0.16978   -0.75916   -0.48504\n",
            "  0.18669   -0.4728     0.24737    0.1392    -0.059975   0.080546\n",
            " -0.27469    0.7711     0.2551     0.18026   -0.53662   -0.44593\n",
            " -0.20633    0.17478   -0.17838   -0.52728   -0.078427  -0.028038\n",
            "  0.15815    0.48045   -0.31579   -0.18469    0.13078    0.014709\n",
            " -0.35492    0.013196   0.090054  -0.26359    0.12309    0.23484\n",
            " -0.46102   -0.021193   0.13588   -1.0978    -0.17838   -0.67122\n",
            " -0.18812    0.1694     0.07835    0.091717  -0.13887   -0.41489\n",
            "  0.20795   -0.078392  -0.51486    0.44443    0.1034     0.60963\n",
            "  0.82217    0.10944   -0.19711    0.13715    0.32636    0.25919  ]\n"
          ]
        }
      ]
    },
    {
      "cell_type": "code",
      "metadata": {
        "colab": {
          "base_uri": "https://localhost:8080/"
        },
        "id": "WwVpuzSEIj0F",
        "outputId": "29698512-0665-4e00-ffd9-7a44e63889f8"
      },
      "source": [
        "model.most_similar(\"capitalism\") #based on cosine similarity of the embeddings"
      ],
      "execution_count": 25,
      "outputs": [
        {
          "output_type": "execute_result",
          "data": {
            "text/plain": [
              "[('communism', 0.6336767077445984),\n",
              " ('socialism', 0.6222169399261475),\n",
              " ('liberalism', 0.612514853477478),\n",
              " ('capitalist', 0.6099783182144165),\n",
              " ('imperialism', 0.5746486186981201),\n",
              " ('consumerism', 0.5485059022903442),\n",
              " ('feudalism', 0.536788821220398),\n",
              " ('globalization', 0.5319066047668457),\n",
              " ('crony', 0.5270956754684448),\n",
              " ('laissez-faire', 0.5063261389732361)]"
            ]
          },
          "metadata": {},
          "execution_count": 25
        }
      ]
    },
    {
      "cell_type": "code",
      "metadata": {
        "id": "X2FJmFueIv5m"
      },
      "source": [
        "#Word2Vec based Query Expansion\n",
        "def update_query(q):\n",
        "  terms=q[\"query\"].split(\" \")\n",
        "  #print(len(terms))\n",
        "  #print(terms)\n",
        "  newterm= \"\"\n",
        "  for t in terms:\n",
        "\n",
        "    \n",
        "    #try:\n",
        "\n",
        "    similar=model.most_similar(t,topn=1)\n",
        "      \n",
        "      #print(t)\n",
        "      #print(similar[0][0],similar[0][1])\n",
        "    newterm= \"\".join((newterm,t,'^5 ',\" \"))\n",
        "    #print(newterms)\n",
        "    newterm=\"\".join((newterm,similar[0][0] ,'^' ,str(similar[0][1]),\" \")) \n",
        "    #print(newterms)\n",
        "      \n",
        "    #except:\n",
        "\n",
        "      #newterms=newterms.join((\" \",t,'^5 ',\" \"))\n",
        "      \n",
        "\n",
        "      #continue\n",
        "    \n",
        "\n",
        "  return newterm\n",
        "  \n",
        "#transformer\n",
        "pnew=pt.apply.query(update_query) >> pt.BatchRetrieve(index, wmodel=\"PL2\")"
      ],
      "execution_count": 28,
      "outputs": []
    },
    {
      "cell_type": "code",
      "metadata": {
        "colab": {
          "base_uri": "https://localhost:8080/",
          "height": 589
        },
        "id": "sj9NsJ7rKb_V",
        "outputId": "e7d8f51c-d65e-409e-ce33-632998964fbe"
      },
      "source": [
        "td_topics=dataset.get_topics(variant=\"td\")\n",
        "#td_topics\n",
        "custom_res=pnew.transform(td_topics)\n",
        "#custom_expand=pt.experiment(custom_res,query,metrics=[\"map\"],perquery=True)\n",
        "custom_res"
      ],
      "execution_count": 30,
      "outputs": [
        {
          "output_type": "execute_result",
          "data": {
            "text/html": [
              "<div>\n",
              "<style scoped>\n",
              "    .dataframe tbody tr th:only-of-type {\n",
              "        vertical-align: middle;\n",
              "    }\n",
              "\n",
              "    .dataframe tbody tr th {\n",
              "        vertical-align: top;\n",
              "    }\n",
              "\n",
              "    .dataframe thead th {\n",
              "        text-align: right;\n",
              "    }\n",
              "</style>\n",
              "<table border=\"1\" class=\"dataframe\">\n",
              "  <thead>\n",
              "    <tr style=\"text-align: right;\">\n",
              "      <th></th>\n",
              "      <th>qid</th>\n",
              "      <th>docid</th>\n",
              "      <th>docno</th>\n",
              "      <th>rank</th>\n",
              "      <th>score</th>\n",
              "      <th>query_0</th>\n",
              "      <th>query</th>\n",
              "    </tr>\n",
              "  </thead>\n",
              "  <tbody>\n",
              "    <tr>\n",
              "      <th>0</th>\n",
              "      <td>1</td>\n",
              "      <td>98060</td>\n",
              "      <td>G03-12-4155229</td>\n",
              "      <td>0</td>\n",
              "      <td>18.008587</td>\n",
              "      <td>electoral college</td>\n",
              "      <td>electoral^5  election^0.7704978585243225 college^5  school^0.7110487222671509</td>\n",
              "    </tr>\n",
              "    <tr>\n",
              "      <th>1</th>\n",
              "      <td>1</td>\n",
              "      <td>184383</td>\n",
              "      <td>G06-33-3247042</td>\n",
              "      <td>1</td>\n",
              "      <td>17.519994</td>\n",
              "      <td>electoral college</td>\n",
              "      <td>electoral^5  election^0.7704978585243225 college^5  school^0.7110487222671509</td>\n",
              "    </tr>\n",
              "    <tr>\n",
              "      <th>2</th>\n",
              "      <td>1</td>\n",
              "      <td>98405</td>\n",
              "      <td>G03-14-0727242</td>\n",
              "      <td>2</td>\n",
              "      <td>17.291737</td>\n",
              "      <td>electoral college</td>\n",
              "      <td>electoral^5  election^0.7704978585243225 college^5  school^0.7110487222671509</td>\n",
              "    </tr>\n",
              "    <tr>\n",
              "      <th>3</th>\n",
              "      <td>1</td>\n",
              "      <td>110098</td>\n",
              "      <td>G03-56-3077214</td>\n",
              "      <td>3</td>\n",
              "      <td>17.275708</td>\n",
              "      <td>electoral college</td>\n",
              "      <td>electoral^5  election^0.7704978585243225 college^5  school^0.7110487222671509</td>\n",
              "    </tr>\n",
              "    <tr>\n",
              "      <th>4</th>\n",
              "      <td>1</td>\n",
              "      <td>297788</td>\n",
              "      <td>G10-47-2751220</td>\n",
              "      <td>4</td>\n",
              "      <td>17.275708</td>\n",
              "      <td>electoral college</td>\n",
              "      <td>electoral^5  election^0.7704978585243225 college^5  school^0.7110487222671509</td>\n",
              "    </tr>\n",
              "    <tr>\n",
              "      <th>...</th>\n",
              "      <td>...</td>\n",
              "      <td>...</td>\n",
              "      <td>...</td>\n",
              "      <td>...</td>\n",
              "      <td>...</td>\n",
              "      <td>...</td>\n",
              "      <td>...</td>\n",
              "    </tr>\n",
              "    <tr>\n",
              "      <th>74960</th>\n",
              "      <td>221</td>\n",
              "      <td>206417</td>\n",
              "      <td>G07-19-1023034</td>\n",
              "      <td>995</td>\n",
              "      <td>6.916445</td>\n",
              "      <td>homeland security</td>\n",
              "      <td>homeland^5  chertoff^0.510805606842041 security^5  forces^0.5520374774932861</td>\n",
              "    </tr>\n",
              "    <tr>\n",
              "      <th>74961</th>\n",
              "      <td>221</td>\n",
              "      <td>111690</td>\n",
              "      <td>G03-62-4024225</td>\n",
              "      <td>996</td>\n",
              "      <td>6.915971</td>\n",
              "      <td>homeland security</td>\n",
              "      <td>homeland^5  chertoff^0.510805606842041 security^5  forces^0.5520374774932861</td>\n",
              "    </tr>\n",
              "    <tr>\n",
              "      <th>74962</th>\n",
              "      <td>221</td>\n",
              "      <td>41590</td>\n",
              "      <td>G01-24-1005402</td>\n",
              "      <td>997</td>\n",
              "      <td>6.914929</td>\n",
              "      <td>homeland security</td>\n",
              "      <td>homeland^5  chertoff^0.510805606842041 security^5  forces^0.5520374774932861</td>\n",
              "    </tr>\n",
              "    <tr>\n",
              "      <th>74963</th>\n",
              "      <td>221</td>\n",
              "      <td>717626</td>\n",
              "      <td>G26-51-2929053</td>\n",
              "      <td>998</td>\n",
              "      <td>6.912768</td>\n",
              "      <td>homeland security</td>\n",
              "      <td>homeland^5  chertoff^0.510805606842041 security^5  forces^0.5520374774932861</td>\n",
              "    </tr>\n",
              "    <tr>\n",
              "      <th>74964</th>\n",
              "      <td>221</td>\n",
              "      <td>65380</td>\n",
              "      <td>G01-99-3360674</td>\n",
              "      <td>999</td>\n",
              "      <td>6.910437</td>\n",
              "      <td>homeland security</td>\n",
              "      <td>homeland^5  chertoff^0.510805606842041 security^5  forces^0.5520374774932861</td>\n",
              "    </tr>\n",
              "  </tbody>\n",
              "</table>\n",
              "<p>74965 rows × 7 columns</p>\n",
              "</div>"
            ],
            "text/plain": [
              "       qid  ...                                                                           query\n",
              "0        1  ...  electoral^5  election^0.7704978585243225 college^5  school^0.7110487222671509 \n",
              "1        1  ...  electoral^5  election^0.7704978585243225 college^5  school^0.7110487222671509 \n",
              "2        1  ...  electoral^5  election^0.7704978585243225 college^5  school^0.7110487222671509 \n",
              "3        1  ...  electoral^5  election^0.7704978585243225 college^5  school^0.7110487222671509 \n",
              "4        1  ...  electoral^5  election^0.7704978585243225 college^5  school^0.7110487222671509 \n",
              "...    ...  ...                                                                             ...\n",
              "74960  221  ...   homeland^5  chertoff^0.510805606842041 security^5  forces^0.5520374774932861 \n",
              "74961  221  ...   homeland^5  chertoff^0.510805606842041 security^5  forces^0.5520374774932861 \n",
              "74962  221  ...   homeland^5  chertoff^0.510805606842041 security^5  forces^0.5520374774932861 \n",
              "74963  221  ...   homeland^5  chertoff^0.510805606842041 security^5  forces^0.5520374774932861 \n",
              "74964  221  ...   homeland^5  chertoff^0.510805606842041 security^5  forces^0.5520374774932861 \n",
              "\n",
              "[74965 rows x 7 columns]"
            ]
          },
          "metadata": {},
          "execution_count": 30
        }
      ]
    },
    {
      "cell_type": "code",
      "metadata": {
        "colab": {
          "base_uri": "https://localhost:8080/",
          "height": 419
        },
        "id": "_3dPPAw2K7S9",
        "outputId": "f7335bcf-286a-4fc7-ca82-8afd3977fa65"
      },
      "source": [
        "pnew.search(\"anime\")"
      ],
      "execution_count": 33,
      "outputs": [
        {
          "output_type": "execute_result",
          "data": {
            "text/html": [
              "<div>\n",
              "<style scoped>\n",
              "    .dataframe tbody tr th:only-of-type {\n",
              "        vertical-align: middle;\n",
              "    }\n",
              "\n",
              "    .dataframe tbody tr th {\n",
              "        vertical-align: top;\n",
              "    }\n",
              "\n",
              "    .dataframe thead th {\n",
              "        text-align: right;\n",
              "    }\n",
              "</style>\n",
              "<table border=\"1\" class=\"dataframe\">\n",
              "  <thead>\n",
              "    <tr style=\"text-align: right;\">\n",
              "      <th></th>\n",
              "      <th>qid</th>\n",
              "      <th>docid</th>\n",
              "      <th>docno</th>\n",
              "      <th>rank</th>\n",
              "      <th>score</th>\n",
              "      <th>query_0</th>\n",
              "      <th>query</th>\n",
              "    </tr>\n",
              "  </thead>\n",
              "  <tbody>\n",
              "    <tr>\n",
              "      <th>0</th>\n",
              "      <td>1</td>\n",
              "      <td>353157</td>\n",
              "      <td>G12-52-1290791</td>\n",
              "      <td>0</td>\n",
              "      <td>7.200792</td>\n",
              "      <td>anime</td>\n",
              "      <td>anime^5  manga^0.7752507328987122</td>\n",
              "    </tr>\n",
              "    <tr>\n",
              "      <th>1</th>\n",
              "      <td>1</td>\n",
              "      <td>128508</td>\n",
              "      <td>G04-26-1816869</td>\n",
              "      <td>1</td>\n",
              "      <td>7.117641</td>\n",
              "      <td>anime</td>\n",
              "      <td>anime^5  manga^0.7752507328987122</td>\n",
              "    </tr>\n",
              "    <tr>\n",
              "      <th>2</th>\n",
              "      <td>1</td>\n",
              "      <td>150826</td>\n",
              "      <td>G05-09-1101034</td>\n",
              "      <td>2</td>\n",
              "      <td>7.114356</td>\n",
              "      <td>anime</td>\n",
              "      <td>anime^5  manga^0.7752507328987122</td>\n",
              "    </tr>\n",
              "    <tr>\n",
              "      <th>3</th>\n",
              "      <td>1</td>\n",
              "      <td>717360</td>\n",
              "      <td>G26-50-1380134</td>\n",
              "      <td>3</td>\n",
              "      <td>7.066404</td>\n",
              "      <td>anime</td>\n",
              "      <td>anime^5  manga^0.7752507328987122</td>\n",
              "    </tr>\n",
              "    <tr>\n",
              "      <th>4</th>\n",
              "      <td>1</td>\n",
              "      <td>316918</td>\n",
              "      <td>G11-19-3442287</td>\n",
              "      <td>4</td>\n",
              "      <td>7.024786</td>\n",
              "      <td>anime</td>\n",
              "      <td>anime^5  manga^0.7752507328987122</td>\n",
              "    </tr>\n",
              "    <tr>\n",
              "      <th>...</th>\n",
              "      <td>...</td>\n",
              "      <td>...</td>\n",
              "      <td>...</td>\n",
              "      <td>...</td>\n",
              "      <td>...</td>\n",
              "      <td>...</td>\n",
              "      <td>...</td>\n",
              "    </tr>\n",
              "    <tr>\n",
              "      <th>995</th>\n",
              "      <td>1</td>\n",
              "      <td>802597</td>\n",
              "      <td>G29-80-2695032</td>\n",
              "      <td>995</td>\n",
              "      <td>4.911678</td>\n",
              "      <td>anime</td>\n",
              "      <td>anime^5  manga^0.7752507328987122</td>\n",
              "    </tr>\n",
              "    <tr>\n",
              "      <th>996</th>\n",
              "      <td>1</td>\n",
              "      <td>382774</td>\n",
              "      <td>G13-59-4187242</td>\n",
              "      <td>996</td>\n",
              "      <td>4.911056</td>\n",
              "      <td>anime</td>\n",
              "      <td>anime^5  manga^0.7752507328987122</td>\n",
              "    </tr>\n",
              "    <tr>\n",
              "      <th>997</th>\n",
              "      <td>1</td>\n",
              "      <td>87710</td>\n",
              "      <td>G02-77-0256818</td>\n",
              "      <td>997</td>\n",
              "      <td>4.911003</td>\n",
              "      <td>anime</td>\n",
              "      <td>anime^5  manga^0.7752507328987122</td>\n",
              "    </tr>\n",
              "    <tr>\n",
              "      <th>998</th>\n",
              "      <td>1</td>\n",
              "      <td>583542</td>\n",
              "      <td>G20-95-0276510</td>\n",
              "      <td>998</td>\n",
              "      <td>4.911003</td>\n",
              "      <td>anime</td>\n",
              "      <td>anime^5  manga^0.7752507328987122</td>\n",
              "    </tr>\n",
              "    <tr>\n",
              "      <th>999</th>\n",
              "      <td>1</td>\n",
              "      <td>150849</td>\n",
              "      <td>G05-09-1596217</td>\n",
              "      <td>999</td>\n",
              "      <td>4.910282</td>\n",
              "      <td>anime</td>\n",
              "      <td>anime^5  manga^0.7752507328987122</td>\n",
              "    </tr>\n",
              "  </tbody>\n",
              "</table>\n",
              "<p>1000 rows × 7 columns</p>\n",
              "</div>"
            ],
            "text/plain": [
              "    qid   docid  ... query_0                               query\n",
              "0     1  353157  ...   anime  anime^5  manga^0.7752507328987122 \n",
              "1     1  128508  ...   anime  anime^5  manga^0.7752507328987122 \n",
              "2     1  150826  ...   anime  anime^5  manga^0.7752507328987122 \n",
              "3     1  717360  ...   anime  anime^5  manga^0.7752507328987122 \n",
              "4     1  316918  ...   anime  anime^5  manga^0.7752507328987122 \n",
              "..   ..     ...  ...     ...                                 ...\n",
              "995   1  802597  ...   anime  anime^5  manga^0.7752507328987122 \n",
              "996   1  382774  ...   anime  anime^5  manga^0.7752507328987122 \n",
              "997   1   87710  ...   anime  anime^5  manga^0.7752507328987122 \n",
              "998   1  583542  ...   anime  anime^5  manga^0.7752507328987122 \n",
              "999   1  150849  ...   anime  anime^5  manga^0.7752507328987122 \n",
              "\n",
              "[1000 rows x 7 columns]"
            ]
          },
          "metadata": {},
          "execution_count": 33
        }
      ]
    },
    {
      "cell_type": "code",
      "metadata": {
        "colab": {
          "base_uri": "https://localhost:8080/",
          "height": 142
        },
        "id": "4WE-lhSZLALM",
        "outputId": "1cb0c0c7-f76d-46ad-d3f7-eaea51a18f89"
      },
      "source": [
        "pt.Experiment([pl2,pipelineQE ,pnew],\n",
        "            dataset.get_topics(variant=\"td\"),\n",
        "            dataset.get_qrels(variant=\"td\"),\n",
        "            [\"map\"],\n",
        "            \n",
        "            \n",
        "    \n",
        "            names=[\"pl2\",\"bo1\",\"pipleline\"]\n",
        "            ) \n",
        "#query expansion based on word2vec improves MAP"
      ],
      "execution_count": 35,
      "outputs": [
        {
          "output_type": "execute_result",
          "data": {
            "text/html": [
              "<div>\n",
              "<style scoped>\n",
              "    .dataframe tbody tr th:only-of-type {\n",
              "        vertical-align: middle;\n",
              "    }\n",
              "\n",
              "    .dataframe tbody tr th {\n",
              "        vertical-align: top;\n",
              "    }\n",
              "\n",
              "    .dataframe thead th {\n",
              "        text-align: right;\n",
              "    }\n",
              "</style>\n",
              "<table border=\"1\" class=\"dataframe\">\n",
              "  <thead>\n",
              "    <tr style=\"text-align: right;\">\n",
              "      <th></th>\n",
              "      <th>name</th>\n",
              "      <th>map</th>\n",
              "    </tr>\n",
              "  </thead>\n",
              "  <tbody>\n",
              "    <tr>\n",
              "      <th>0</th>\n",
              "      <td>pl2</td>\n",
              "      <td>0.069525</td>\n",
              "    </tr>\n",
              "    <tr>\n",
              "      <th>1</th>\n",
              "      <td>bo1</td>\n",
              "      <td>0.067078</td>\n",
              "    </tr>\n",
              "    <tr>\n",
              "      <th>2</th>\n",
              "      <td>pipleline</td>\n",
              "      <td>0.071624</td>\n",
              "    </tr>\n",
              "  </tbody>\n",
              "</table>\n",
              "</div>"
            ],
            "text/plain": [
              "        name       map\n",
              "0        pl2  0.069525\n",
              "1        bo1  0.067078\n",
              "2  pipleline  0.071624"
            ]
          },
          "metadata": {},
          "execution_count": 35
        }
      ]
    },
    {
      "cell_type": "code",
      "metadata": {
        "id": "Epgp7osjLLh0"
      },
      "source": [
        ""
      ],
      "execution_count": null,
      "outputs": []
    }
  ]
}